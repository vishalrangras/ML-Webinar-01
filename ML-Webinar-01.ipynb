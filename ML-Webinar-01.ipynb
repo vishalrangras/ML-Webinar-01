{
 "cells": [
  {
   "cell_type": "markdown",
   "id": "5c27fd36",
   "metadata": {},
   "source": [
    "# Iris Flower Dataset Example"
   ]
  },
  {
   "cell_type": "code",
   "execution_count": null,
   "id": "ef039194",
   "metadata": {},
   "outputs": [],
   "source": [
    "# Library imports\n",
    "\n",
    "import pandas as pd\n",
    "import numpy as np\n",
    "import matplotlib.pyplot as plt\n",
    "\n",
    "import sklearn.datasets\n",
    "from sklearn import tree\n",
    "from sklearn.model_selection import train_test_split\n",
    "from sklearn.model_selection import cross_val_score\n",
    "from sklearn import preprocessing\n",
    "\n",
    "import time\n",
    "\n",
    "from pathlib import Path"
   ]
  },
  {
   "cell_type": "markdown",
   "id": "138b2397",
   "metadata": {},
   "source": [
    "### Load Dataset and Analyse it"
   ]
  },
  {
   "cell_type": "code",
   "execution_count": null,
   "id": "79fc5fe5",
   "metadata": {},
   "outputs": [],
   "source": [
    "iris = sklearn.datasets.load_iris()"
   ]
  },
  {
   "cell_type": "code",
   "execution_count": null,
   "id": "1b7bed4a",
   "metadata": {},
   "outputs": [],
   "source": [
    "print(iris.DESCR)"
   ]
  },
  {
   "cell_type": "code",
   "execution_count": null,
   "id": "585c393b",
   "metadata": {},
   "outputs": [],
   "source": [
    "print(iris.data)"
   ]
  },
  {
   "cell_type": "code",
   "execution_count": null,
   "id": "692ba471",
   "metadata": {},
   "outputs": [],
   "source": [
    "print(iris.target)"
   ]
  },
  {
   "cell_type": "code",
   "execution_count": null,
   "id": "1f5f8909",
   "metadata": {},
   "outputs": [],
   "source": [
    "print(iris.target_names)"
   ]
  },
  {
   "cell_type": "markdown",
   "id": "b0ab0af6",
   "metadata": {},
   "source": [
    "#### Load dataset into Pandas DataFrame"
   ]
  },
  {
   "cell_type": "code",
   "execution_count": null,
   "id": "c1b88f13",
   "metadata": {},
   "outputs": [],
   "source": [
    "iris_df = pd.DataFrame(iris.data, columns=['Sepal length', 'Sepal width', 'Petal length', 'Petal width'])\n",
    "iris_df_labels = iris_df.copy() # Creates a copy of DataFrame Object\n",
    "iris_df_labels['Label'] = iris.target_names[iris.target] # Adding Label Column with the actual name mapping\n",
    "iris_df_labels.head() # head() shows top 10 rows of the dataset"
   ]
  },
  {
   "cell_type": "code",
   "execution_count": null,
   "id": "f0701b45",
   "metadata": {},
   "outputs": [],
   "source": [
    "iris_df_labels.tail() # tail() shows last 10 rows of the dataset"
   ]
  },
  {
   "cell_type": "code",
   "execution_count": null,
   "id": "74a3e491",
   "metadata": {},
   "outputs": [],
   "source": [
    "iris_df_labels.describe() # describe() command provides statistical information of entire dataframe"
   ]
  },
  {
   "cell_type": "markdown",
   "id": "db0a26a2",
   "metadata": {},
   "source": [
    "### Visualize Dataset using Scatter Plots"
   ]
  },
  {
   "cell_type": "code",
   "execution_count": null,
   "id": "d9922be2",
   "metadata": {},
   "outputs": [],
   "source": [
    "groups = iris_df_labels.groupby(\"Label\")\n",
    "for name, group in groups:\n",
    "    plt.plot(group[\"Sepal width\"], group[\"Sepal length\"], marker=\"o\", linestyle=\"\", label=name)\n",
    "plt.xlabel('Sepal width')\n",
    "plt.ylabel('Sepal length')\n",
    "plt.legend()\n",
    "plt.show()"
   ]
  },
  {
   "cell_type": "code",
   "execution_count": null,
   "id": "e3452d49",
   "metadata": {},
   "outputs": [],
   "source": [
    "for name, group in groups:\n",
    "    plt.plot(group[\"Petal width\"], group[\"Petal length\"], marker=\"o\", linestyle=\"\", label=name)\n",
    "plt.xlabel('Petal width')\n",
    "plt.ylabel('Petal length')\n",
    "plt.legend()\n",
    "plt.show()"
   ]
  },
  {
   "cell_type": "markdown",
   "id": "8bb32d33",
   "metadata": {},
   "source": [
    "### Split Dataset into Training and Test"
   ]
  },
  {
   "cell_type": "code",
   "execution_count": null,
   "id": "94674b05",
   "metadata": {},
   "outputs": [],
   "source": [
    "X_train, X_test, y_train, y_test = sklearn.model_selection.train_test_split(iris.data, iris.target, train_size=0.80)"
   ]
  },
  {
   "cell_type": "code",
   "execution_count": null,
   "id": "9373002c",
   "metadata": {},
   "outputs": [],
   "source": [
    "print(f'X_train: {X_train.shape}, y_train: {y_train.shape}')\n",
    "print(f'X_test: {X_test.shape}, y_test: {y_test.shape}')"
   ]
  },
  {
   "cell_type": "markdown",
   "id": "9664180d",
   "metadata": {},
   "source": [
    "#### Standardization of Data\n",
    "\n",
    "> Zero mean and Unit Variance"
   ]
  },
  {
   "cell_type": "code",
   "execution_count": null,
   "id": "d59dc6d9",
   "metadata": {},
   "outputs": [],
   "source": [
    "def scale_data(scaling):\n",
    "    if scaling:\n",
    "        print(\"------------------Scaling the data------------------\")\n",
    "        scaler = preprocessing.StandardScaler().fit(X_train)\n",
    "        Scaled_X_train = scaler.transform(X_train)\n",
    "        Scaled_X_test = scaler.transform(X_test)\n",
    "    else:\n",
    "        print(\"------------------Not scaling the data------------------\")\n",
    "        Scaled_X_train = X_train\n",
    "        Scaled_X_test = X_test\n",
    "    return Scaled_X_train, Scaled_X_test\n",
    "\n",
    "Scaled_X_train, Scaled_X_test = scale_data(False)\n",
    "print(f'\\nThe first data sample Original Form:\\n\\n {Scaled_X_train[1]}')"
   ]
  },
  {
   "cell_type": "markdown",
   "id": "2431d8b3",
   "metadata": {},
   "source": [
    "### Training a Decision Tree Classifier on Original Data - Cross Validation"
   ]
  },
  {
   "cell_type": "code",
   "execution_count": null,
   "id": "b315f15d",
   "metadata": {},
   "outputs": [],
   "source": [
    "time_begin = time.time()\n",
    "dtc = tree.DecisionTreeClassifier()\n",
    "scores = cross_val_score(dtc, Scaled_X_train, y_train, cv=5)\n",
    "print(\"Accuracy of Decision Tree: %0.4f (+/- %0.4f)\" % (scores.mean(), scores.std() * 2))\n",
    "time_end = time.time()\n",
    "print(f\"Time taken in seconds: {time_end - time_begin:.4f} s\")"
   ]
  },
  {
   "cell_type": "markdown",
   "id": "38ae80b7",
   "metadata": {},
   "source": [
    "### Training a Decision Tree Classifier on Scaled Data (Standardized Data)"
   ]
  },
  {
   "cell_type": "code",
   "execution_count": null,
   "id": "81017f37",
   "metadata": {},
   "outputs": [],
   "source": [
    "Scaled_X_train, Scaled_X_test = scale_data(True)\n",
    "print(f'\\nThe first data sample of Original Normalized Data:\\n {Scaled_X_train[1]}')\n",
    "\n",
    "time_begin = time.time()\n",
    "dtc = tree.DecisionTreeClassifier()\n",
    "scores = cross_val_score(dtc, Scaled_X_train, y_train, cv=5)\n",
    "print(\"\\nAccuracy of Decision Tree: %0.4f (+/- %0.4f)\" % (scores.mean(), scores.std() * 2))\n",
    "time_end = time.time()\n",
    "print(f\"Time taken in seconds: {time_end - time_begin:.4f} s\")"
   ]
  },
  {
   "cell_type": "markdown",
   "id": "e7f7de03",
   "metadata": {},
   "source": [
    "#### Fiting the Decision Tree model on Scaled Data"
   ]
  },
  {
   "cell_type": "code",
   "execution_count": null,
   "id": "e738ace1",
   "metadata": {},
   "outputs": [],
   "source": [
    "print(\"Training the model...\")\n",
    "time_begin = time.time()\n",
    "dtc.fit(Scaled_X_train, y_train)\n",
    "time_end = time.time()\n",
    "print(f\"Time taken to train in seconds: {time_end - time_begin:.4f} s\")"
   ]
  },
  {
   "cell_type": "markdown",
   "id": "b239cfec",
   "metadata": {},
   "source": [
    "### Evaluating test accuracy on trained model"
   ]
  },
  {
   "cell_type": "code",
   "execution_count": null,
   "id": "e23ecac7",
   "metadata": {},
   "outputs": [],
   "source": [
    "y_pred = dtc.predict(Scaled_X_test)\n",
    "y_true = y_test\n",
    "print(f'The mean accuracy score for Decision Tree is: {dtc.score(Scaled_X_test, y_test):0.4f}')"
   ]
  },
  {
   "cell_type": "markdown",
   "id": "92521d1b",
   "metadata": {},
   "source": [
    "### Visualizing the trained decision tree"
   ]
  },
  {
   "cell_type": "code",
   "execution_count": null,
   "id": "7c6bfffc",
   "metadata": {},
   "outputs": [],
   "source": [
    "fig = plt.figure(figsize=(25,20))\n",
    "_ = tree.plot_tree(dtc, feature_names=iris.feature_names, class_names=iris.target_names, filled=True)"
   ]
  },
  {
   "cell_type": "markdown",
   "id": "9f71883b",
   "metadata": {},
   "source": [
    "## Self-Study Tasks\n",
    "\n",
    "1. Watch Decision Tree videos of StatQuest\n",
    "2. Search and understand what is Information Gain, Entropy and Gini Impurity\n",
    "3. Checkout documentation of all the python packages, classes and methods used in this code\n",
    "4. Study about Support Vector Machine, Naive Bayes and Random Forest Classifiers and apply them to this dataset.\n",
    "5. Read about what is class imbalance and how to overcome it.\n",
    "6. Read about Cross-Validation.\n",
    "7. Watch StatQuest videos on Underfitting and Overfitting.\n",
    "8. Read about F1_Score and ROC_AUC Score, and their importance in classification\n",
    "9. Train Decision Tree on Online Shoppers Purchasing Intention Dataset\n",
    "10. Read about PCA from Python Data Science Handbook - https://jakevdp.github.io/PythonDataScienceHandbook/05.09-principal-component-analysis.html\n",
    "11. How to deal with categorical (non-numerical) data features? Read about Feature Encoding."
   ]
  },
  {
   "cell_type": "markdown",
   "id": "34293de6",
   "metadata": {},
   "source": [
    "# Online Shoppers Purchasing Intent Dataset\n",
    "\n",
    "**Rows / Datapoints**: 12330\n",
    "\n",
    "**Columns / Features / Attributes + Label**: 17 + 1\n",
    "\n",
    "**Classes**: 2\n",
    "\n",
    "### Reading the dataset"
   ]
  },
  {
   "cell_type": "code",
   "execution_count": null,
   "id": "83b4fb94",
   "metadata": {},
   "outputs": [],
   "source": [
    "osi_df = pd.read_csv('./online_shoppers_intention.csv') # df stands for dataframe\n",
    "print(f'The rows and columns of our dataset are: {osi_df.shape}')"
   ]
  },
  {
   "cell_type": "code",
   "execution_count": null,
   "id": "ff006c75",
   "metadata": {},
   "outputs": [],
   "source": [
    "osi_df.head(10) # head() shows top 10 rows of the dataset"
   ]
  },
  {
   "cell_type": "code",
   "execution_count": null,
   "id": "c50ef1b1",
   "metadata": {},
   "outputs": [],
   "source": [
    "osi_df.describe() # describe() command provides statistical information of entire dataframe"
   ]
  },
  {
   "cell_type": "markdown",
   "id": "d8cdf0a6",
   "metadata": {},
   "source": [
    "### Visualizing the Dataset"
   ]
  },
  {
   "cell_type": "code",
   "execution_count": null,
   "id": "8ff3dc7f",
   "metadata": {},
   "outputs": [],
   "source": [
    "RESULTS_PATH = \"./results\"\n",
    "SCATTER_PLOT = \"/scatter_plot/\"\n",
    "SCATTER_PLOT_PATH = RESULTS_PATH + SCATTER_PLOT\n",
    "Path(SCATTER_PLOT_PATH).mkdir(parents=True, exist_ok=True)\n",
    "\n",
    "colors = np.where(osi_df.Revenue == 1, 'g', 'r')\n",
    "\n",
    "fig = osi_df.plot.scatter(y='PageValues', x='ExitRates', c=colors).get_figure()\n",
    "fig.savefig(SCATTER_PLOT_PATH+'PageValues-ExitRates.png', dpi=150)"
   ]
  },
  {
   "cell_type": "code",
   "execution_count": null,
   "id": "dc2b2019",
   "metadata": {},
   "outputs": [],
   "source": [
    "fig = osi_df.plot.scatter(y='PageValues', x='BounceRates', c=colors).get_figure()\n",
    "fig.savefig(SCATTER_PLOT_PATH+'PageValues-BounceRates.png', dpi=150)"
   ]
  },
  {
   "cell_type": "code",
   "execution_count": null,
   "id": "760089c7",
   "metadata": {},
   "outputs": [],
   "source": [
    "fig = osi_df.plot.scatter(x='SpecialDay', y='PageValues', c=colors).get_figure()\n",
    "fig.savefig(SCATTER_PLOT_PATH+'PageValues-SpecialDay.png', dpi=150)"
   ]
  },
  {
   "cell_type": "code",
   "execution_count": null,
   "id": "844a2bba",
   "metadata": {},
   "outputs": [],
   "source": [
    "fig = osi_df.plot.scatter(x='Month', y='PageValues', c=colors).get_figure()\n",
    "fig.savefig(SCATTER_PLOT_PATH+'PageValues-Month.png', dpi=150)"
   ]
  },
  {
   "cell_type": "code",
   "execution_count": null,
   "id": "1ac0f2a0",
   "metadata": {},
   "outputs": [],
   "source": [
    "fig = osi_df.plot.scatter(x='ProductRelated', y='Administrative', c=colors).get_figure()\n",
    "fig.savefig(SCATTER_PLOT_PATH+'Administrative-ProductRelated.png', dpi=150)"
   ]
  },
  {
   "cell_type": "code",
   "execution_count": null,
   "id": "7a37722a",
   "metadata": {},
   "outputs": [],
   "source": [
    "fig = osi_df.plot.scatter(x='ProductRelated', y='Informational', c=colors).get_figure()\n",
    "fig.savefig(SCATTER_PLOT_PATH+'Informational-ProductRelated.png', dpi=150)"
   ]
  },
  {
   "cell_type": "code",
   "execution_count": null,
   "id": "5967c255",
   "metadata": {},
   "outputs": [],
   "source": [
    "fig = osi_df.plot.scatter(x='ProductRelated_Duration', y='Administrative_Duration', c=colors).get_figure()\n",
    "fig.savefig(SCATTER_PLOT_PATH+'AdministrativeDuration-ProductRelatedDuration', dpi=150)"
   ]
  },
  {
   "cell_type": "code",
   "execution_count": null,
   "id": "ebd19b87",
   "metadata": {},
   "outputs": [],
   "source": [
    "fig = osi_df.plot.scatter(x='ProductRelated_Duration', y='Informational_Duration', c=colors).get_figure()\n",
    "fig.savefig(SCATTER_PLOT_PATH+'InformationalDuration-ProductRelatedDuration.png', dpi=150)"
   ]
  },
  {
   "cell_type": "code",
   "execution_count": null,
   "id": "116c01c7",
   "metadata": {},
   "outputs": [],
   "source": [
    "fig = osi_df.plot.scatter(x='OperatingSystems', y='Browser', c=colors).get_figure()\n",
    "fig.savefig(SCATTER_PLOT_PATH+'Browser-OperatingSystems.png', dpi=150)"
   ]
  },
  {
   "cell_type": "code",
   "execution_count": null,
   "id": "5cd919c2",
   "metadata": {},
   "outputs": [],
   "source": [
    "fig = osi_df.plot.scatter(x='Region', y='TrafficType', c=colors).get_figure()\n",
    "fig.savefig(SCATTER_PLOT_PATH+'TrafficType-Region.png', dpi=150)"
   ]
  },
  {
   "cell_type": "code",
   "execution_count": null,
   "id": "18c277e0",
   "metadata": {},
   "outputs": [],
   "source": []
  }
 ],
 "metadata": {
  "kernelspec": {
   "display_name": "Python 3",
   "language": "python",
   "name": "python3"
  },
  "language_info": {
   "codemirror_mode": {
    "name": "ipython",
    "version": 3
   },
   "file_extension": ".py",
   "mimetype": "text/x-python",
   "name": "python",
   "nbconvert_exporter": "python",
   "pygments_lexer": "ipython3",
   "version": "3.6.13"
  }
 },
 "nbformat": 4,
 "nbformat_minor": 5
}
